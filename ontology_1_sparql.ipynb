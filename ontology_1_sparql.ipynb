{
  "nbformat": 4,
  "nbformat_minor": 0,
  "metadata": {
    "colab": {
      "provenance": []
    },
    "kernelspec": {
      "name": "python3",
      "display_name": "Python 3"
    },
    "language_info": {
      "name": "python"
    }
  },
  "cells": [
    {
      "cell_type": "code",
      "source": [
        "!pip install rdflib"
      ],
      "metadata": {
        "colab": {
          "base_uri": "https://localhost:8080/"
        },
        "id": "4KjK0MhDJB3L",
        "outputId": "423e0c99-6565-4020-d86f-87ede14fe0fc"
      },
      "execution_count": 10,
      "outputs": [
        {
          "output_type": "stream",
          "name": "stdout",
          "text": [
            "Requirement already satisfied: rdflib in /usr/local/lib/python3.10/dist-packages (7.0.0)\n",
            "Requirement already satisfied: isodate<0.7.0,>=0.6.0 in /usr/local/lib/python3.10/dist-packages (from rdflib) (0.6.1)\n",
            "Requirement already satisfied: pyparsing<4,>=2.1.0 in /usr/local/lib/python3.10/dist-packages (from rdflib) (3.1.2)\n",
            "Requirement already satisfied: six in /usr/local/lib/python3.10/dist-packages (from isodate<0.7.0,>=0.6.0->rdflib) (1.16.0)\n"
          ]
        }
      ]
    },
    {
      "cell_type": "code",
      "execution_count": 16,
      "metadata": {
        "colab": {
          "base_uri": "https://localhost:8080/"
        },
        "id": "R6PNQMqeI64E",
        "outputId": "56e3dc20-e152-493e-e0be-f3f4a6d79e88"
      },
      "outputs": [
        {
          "output_type": "stream",
          "name": "stdout",
          "text": [
            "10by24 three point percentage: 41.70%\n",
            "11by26 two point percentage: 42.30%\n"
          ]
        }
      ],
      "source": [
        "import rdflib\n",
        "\n",
        "# Load RDF data\n",
        "g = rdflib.Graph()\n",
        "g.parse(\"ontology_1_populated 1.ttl\", \"turtle\")\n",
        "\n",
        "# Define the queries for fetching percentages\n",
        "three_percentage_query = \"\"\"\n",
        "PREFIX ma: <http://www.semanticweb.org/addalin/ontologies/2024/3/untitled-ontology-14/>\n",
        "PREFIX rdf: <http://www.w3.org/1999/02/22-rdf-syntax-ns#>\n",
        "\n",
        "SELECT ?three_percentage\n",
        "WHERE {\n",
        "  <http://www.semanticweb.org/addalin/ontologies/2024/3/untitled-ontology-14/10by24> rdf:type ma:ThreePointsMade ;\n",
        "           ma:Three_Point_Field_Goals_Percentage ?three_percentage .\n",
        "}\n",
        "\"\"\"\n",
        "\n",
        "two_percentage_query = \"\"\"\n",
        "PREFIX ma: <http://www.semanticweb.org/addalin/ontologies/2024/3/untitled-ontology-14/>\n",
        "PREFIX rdf: <http://www.w3.org/1999/02/22-rdf-syntax-ns#>\n",
        "\n",
        "SELECT ?two_percentage\n",
        "WHERE {\n",
        "  <http://www.semanticweb.org/addalin/ontologies/2024/3/untitled-ontology-14/11by26> rdf:type ma:TwoPointsMade ;\n",
        "           ma:Two_Point_Field_Goals_Percentage ?two_percentage .\n",
        "}\n",
        "\"\"\"\n",
        "\n",
        "# Execute SPARQL queries\n",
        "results = g.query(three_percentage_query)\n",
        "results_2 = g.query(two_percentage_query)\n",
        "\n",
        "# Display results for three point percentage\n",
        "for row in results:\n",
        "    print(\"10by24 three point percentage:\", str(row.three_percentage))\n",
        "\n",
        "# Display results for two point percentage\n",
        "for row in results_2:\n",
        "    print(\"11by26 two point percentage:\", str(row.two_percentage))\n"
      ]
    }
  ]
}