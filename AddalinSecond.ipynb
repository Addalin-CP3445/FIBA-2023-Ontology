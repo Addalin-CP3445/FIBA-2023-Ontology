{
  "nbformat": 4,
  "nbformat_minor": 0,
  "metadata": {
    "colab": {
      "provenance": []
    },
    "kernelspec": {
      "name": "python3",
      "display_name": "Python 3"
    },
    "language_info": {
      "name": "python"
    }
  },
  "cells": [
    {
      "cell_type": "code",
      "source": [
        "!pip install rdflib"
      ],
      "metadata": {
        "colab": {
          "base_uri": "https://localhost:8080/"
        },
        "id": "asriwifzV52k",
        "outputId": "34f5848b-3204-4256-aed6-b38b5096b198"
      },
      "execution_count": 1,
      "outputs": [
        {
          "output_type": "stream",
          "name": "stdout",
          "text": [
            "Collecting rdflib\n",
            "  Downloading rdflib-7.0.0-py3-none-any.whl (531 kB)\n",
            "\u001b[2K     \u001b[90m━━━━━━━━━━━━━━━━━━━━━━━━━━━━━━━━━━━━━━━━\u001b[0m \u001b[32m531.9/531.9 kB\u001b[0m \u001b[31m5.7 MB/s\u001b[0m eta \u001b[36m0:00:00\u001b[0m\n",
            "\u001b[?25hCollecting isodate<0.7.0,>=0.6.0 (from rdflib)\n",
            "  Downloading isodate-0.6.1-py2.py3-none-any.whl (41 kB)\n",
            "\u001b[2K     \u001b[90m━━━━━━━━━━━━━━━━━━━━━━━━━━━━━━━━━━━━━━━━\u001b[0m \u001b[32m41.7/41.7 kB\u001b[0m \u001b[31m5.7 MB/s\u001b[0m eta \u001b[36m0:00:00\u001b[0m\n",
            "\u001b[?25hRequirement already satisfied: pyparsing<4,>=2.1.0 in /usr/local/lib/python3.10/dist-packages (from rdflib) (3.1.2)\n",
            "Requirement already satisfied: six in /usr/local/lib/python3.10/dist-packages (from isodate<0.7.0,>=0.6.0->rdflib) (1.16.0)\n",
            "Installing collected packages: isodate, rdflib\n",
            "Successfully installed isodate-0.6.1 rdflib-7.0.0\n"
          ]
        }
      ]
    },
    {
      "cell_type": "code",
      "execution_count": 3,
      "metadata": {
        "colab": {
          "base_uri": "https://localhost:8080/"
        },
        "id": "dn240qw7yrVK",
        "outputId": "3d70e64e-56b9-460a-8315-5906ff8adf9a"
      },
      "outputs": [
        {
          "output_type": "execute_result",
          "data": {
            "text/plain": [
              "<Graph identifier=Nf6294dfadbe248ecb56afdb6aa4bffe4 (<class 'rdflib.graph.Graph'>)>"
            ]
          },
          "metadata": {},
          "execution_count": 3
        }
      ],
      "source": [
        "import csv\n",
        "from rdflib import Graph, Literal, Namespace, RDF, URIRef, OWL\n",
        "from rdflib.namespace import XSD\n",
        "\n",
        "ont = Namespace(\"http://www.semanticweb.org/addalin/ontologies/2024/3/untitled-ontology-19/\")\n",
        "xsd = Namespace(\"http://www.w3.org/2001/XMLSchema#\")\n",
        "\n",
        "# Load ontology\n",
        "g = Graph()\n",
        "g.parse(\"ontology_2.ttl\", format=\"turtle\")\n",
        "\n",
        "BELONGS_TO = ont.BELONGS_TO\n",
        "g.add((BELONGS_TO, RDF.type, OWL.ObjectProperty))\n",
        "\n",
        "# Read data from stadiums CSV file\n",
        "with open(\"country_code.csv\", \"r\", newline=\"\") as csvfile:\n",
        "    reader = csv.DictReader(csvfile)\n",
        "\n",
        "\n",
        "    for row in reader:\n",
        "        alpha2_uri = URIRef(ont[str(row[\"ISO 3166-1 alpha2\"])])\n",
        "        g.add((alpha2_uri, RDF.type, ont.ISO_3166_1_alpha2))\n",
        "\n",
        "\n",
        "        alpha3_uri = URIRef(ont[str(row[\"ISO 3166-1 alpha3\"])])\n",
        "        g.add((alpha3_uri, RDF.type, ont.ISO_3166_1_alpha3))\n",
        "\n",
        "        numeric_uri = URIRef(ont[str(row[\"ISO 3166-1 numeric\"])])\n",
        "        g.add((numeric_uri, RDF.type, ont.ISO_3166_1_numeric))\n",
        "\n",
        "        IOC_uri = URIRef(ont[str(row[\"IOC\"])])\n",
        "        g.add((IOC_uri, RDF.type, ont.IOC))\n",
        "\n",
        "        fips_uri = URIRef(ont[str(row[\"Fips 10\"])])\n",
        "        g.add((fips_uri, RDF.type, ont.Fips_10))\n",
        "\n",
        "        lp_uri = URIRef(ont[str(row[\"License Plate\"])])\n",
        "        g.add((lp_uri, RDF.type, ont.License_Plate))\n",
        "\n",
        "        domain_uri = URIRef(ont[str(row[\"Domain\"])])\n",
        "        g.add((domain_uri, RDF.type, ont.Domain))\n",
        "        Country_name = Literal(row[\"Country\"], datatype=XSD.string)\n",
        "        g.add((domain_uri, BELONGS_TO, Country_name))\n",
        "\n",
        "\n",
        "\n",
        "        g.add((alpha2_uri, ont.hasDomain, domain_uri))\n",
        "        g.add((alpha3_uri, ont.hasDomain, domain_uri))\n",
        "        g.add((numeric_uri, ont.hasDomain, domain_uri))\n",
        "        g.add((IOC_uri, ont.hasDomain, domain_uri))\n",
        "        g.add((fips_uri, ont.hasDomain, domain_uri))\n",
        "        g.add((lp_uri, ont.hasDomain, domain_uri))\n",
        "\n",
        "        hasCountry_Name = ont.hasCountry_Name\n",
        "        g.add((hasCountry_Name, RDF.type, OWL.DatatypeProperty))\n",
        "\n",
        "\n",
        "\n",
        "        Country_name = Literal(row[\"Country\"], datatype=XSD.string)\n",
        "        g.add((alpha2_uri, hasCountry_Name, Country_name))\n",
        "        g.add((alpha3_uri, hasCountry_Name, Country_name))\n",
        "        g.add((numeric_uri, hasCountry_Name, Country_name))\n",
        "        g.add((IOC_uri, hasCountry_Name, Country_name))\n",
        "        g.add((fips_uri, hasCountry_Name, Country_name))\n",
        "        g.add((lp_uri, hasCountry_Name, Country_name))\n",
        "\n",
        "g.serialize(destination=\"ontology_2_populated.ttl\", format=\"turtle\")"
      ]
    },
    {
      "cell_type": "code",
      "source": [
        "import pandas as pd\n",
        "from rdflib import Graph, Namespace, RDF, OWL, URIRef, Literal, BNode, RDFS\n",
        "\n",
        "# Load the existing ontology\n",
        "g = Graph()\n",
        "ontology_path = 'ontology_2_populated.ttl'\n",
        "g.parse(ontology_path, format=\"turtle\")\n",
        "\n",
        "# Define the namespace used in the ontology\n",
        "ont = Namespace(\"http://www.semanticweb.org/addalin/ontologies/2024/3/untitled-ontology-19/\")\n",
        "g.bind(\"ont\", ont)\n",
        "\n",
        "# Define new URIs for additional properties\n",
        "iso_alpha2_uri = URIRef(ont[\"hasAlpha_2\"])\n",
        "iso_alpha3_uri = URIRef(ont[\"hasAlpha_3\"])\n",
        "domain_uri = URIRef(ont[\"hasDomain\"])\n",
        "\n",
        "\n",
        "# Load the CSV file containing the new dataset\n",
        "csv_file = \"country_code.csv\"  # Update this with the actual path to your CSV file\n",
        "data = pd.read_csv(csv_file)\n",
        "\n",
        "# Process each row in the dataset\n",
        "for index, row in data.iterrows():\n",
        "    country_id = row['Country'].replace(\" \", \"_\")\n",
        "    country_uri = URIRef(ont[country_id])\n",
        "\n",
        "    # Ensure the country is modeled in the ontology\n",
        "    if (country_uri, RDF.type, OWL.Class) not in g:\n",
        "        g.add((country_uri, RDF.type, OWL.Class))\n",
        "\n",
        "    # Process ISO Alpha-2 code using BNode for restrictions\n",
        "    if pd.notna(row['ISO 3166-1 alpha2']):\n",
        "        alpha_2_name = row['ISO 3166-1 alpha2']\n",
        "        alpha_2_uri = URIRef(ont[str(alpha_2_name)])\n",
        "        alpha2_bnode = BNode()\n",
        "        g.add((alpha2_bnode, RDF.type, OWL.Restriction))\n",
        "        g.add((alpha2_bnode, OWL.onProperty, iso_alpha2_uri))\n",
        "        g.add((alpha2_bnode, OWL.hasValue, alpha_2_uri))\n",
        "        g.add((country_uri, RDFS.subClassOf, alpha2_bnode))\n",
        "\n",
        "    # Process ISO Alpha-3 code using BNode for restrictions\n",
        "    if pd.notna(row['ISO 3166-1 alpha3']):\n",
        "        alpha_3_name = row['ISO 3166-1 alpha3']\n",
        "        alpha_3_uri = URIRef(ont[str(alpha_3_name)])\n",
        "        alpha3_bnode = BNode()\n",
        "        g.add((alpha3_bnode, RDF.type, OWL.Restriction))\n",
        "        g.add((alpha3_bnode, OWL.onProperty, iso_alpha3_uri))\n",
        "        g.add((alpha3_bnode, OWL.hasValue, alpha_3_uri))\n",
        "        g.add((country_uri, RDFS.subClassOf, alpha3_bnode))\n",
        "\n",
        "    # Process Domain using BNode for restrictions\n",
        "    if pd.notna(row['Domain']):\n",
        "        domain_name = row['Domain']\n",
        "        domain_name_uri = URIRef(ont[str(domain_name)])\n",
        "        domain_bnode = BNode()\n",
        "        g.add((domain_bnode, RDF.type, OWL.Restriction))\n",
        "        g.add((domain_bnode, OWL.onProperty, domain_uri))\n",
        "        g.add((domain_bnode, OWL.hasValue, domain_name_uri))\n",
        "        g.add((country_uri, RDFS.subClassOf, domain_bnode))\n",
        "\n",
        "# Serialize the updated graph to a TTL file\n",
        "output_ttl_path = 'ontology_2_populated.ttl'\n",
        "g.serialize(destination=output_ttl_path, format='turtle')"
      ],
      "metadata": {
        "colab": {
          "base_uri": "https://localhost:8080/"
        },
        "id": "9mMux4wNVZaU",
        "outputId": "285ba287-1ac3-40e3-8f7c-c1b7ab90732d"
      },
      "execution_count": 4,
      "outputs": [
        {
          "output_type": "execute_result",
          "data": {
            "text/plain": [
              "<Graph identifier=N88aca48244b44c1686852dc10ec15e08 (<class 'rdflib.graph.Graph'>)>"
            ]
          },
          "metadata": {},
          "execution_count": 4
        }
      ]
    }
  ]
}