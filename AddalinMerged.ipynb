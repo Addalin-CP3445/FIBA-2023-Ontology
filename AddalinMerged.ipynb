{
  "nbformat": 4,
  "nbformat_minor": 0,
  "metadata": {
    "colab": {
      "provenance": []
    },
    "kernelspec": {
      "name": "python3",
      "display_name": "Python 3"
    },
    "language_info": {
      "name": "python"
    }
  },
  "cells": [
    {
      "cell_type": "code",
      "execution_count": 1,
      "metadata": {
        "colab": {
          "base_uri": "https://localhost:8080/"
        },
        "id": "LhDcDAKWi8di",
        "outputId": "60107980-3c4e-48e2-db3d-f976d9408770"
      },
      "outputs": [
        {
          "output_type": "stream",
          "name": "stdout",
          "text": [
            "Collecting rdflib\n",
            "  Downloading rdflib-7.0.0-py3-none-any.whl (531 kB)\n",
            "\u001b[2K     \u001b[90m━━━━━━━━━━━━━━━━━━━━━━━━━━━━━━━━━━━━━━━━\u001b[0m \u001b[32m531.9/531.9 kB\u001b[0m \u001b[31m6.1 MB/s\u001b[0m eta \u001b[36m0:00:00\u001b[0m\n",
            "\u001b[?25hCollecting isodate<0.7.0,>=0.6.0 (from rdflib)\n",
            "  Downloading isodate-0.6.1-py2.py3-none-any.whl (41 kB)\n",
            "\u001b[2K     \u001b[90m━━━━━━━━━━━━━━━━━━━━━━━━━━━━━━━━━━━━━━━━\u001b[0m \u001b[32m41.7/41.7 kB\u001b[0m \u001b[31m3.6 MB/s\u001b[0m eta \u001b[36m0:00:00\u001b[0m\n",
            "\u001b[?25hRequirement already satisfied: pyparsing<4,>=2.1.0 in /usr/local/lib/python3.10/dist-packages (from rdflib) (3.1.2)\n",
            "Requirement already satisfied: six in /usr/local/lib/python3.10/dist-packages (from isodate<0.7.0,>=0.6.0->rdflib) (1.16.0)\n",
            "Installing collected packages: isodate, rdflib\n",
            "Successfully installed isodate-0.6.1 rdflib-7.0.0\n"
          ]
        }
      ],
      "source": [
        "!pip install rdflib"
      ]
    },
    {
      "cell_type": "code",
      "source": [
        "import csv\n",
        "from rdflib import Graph, Literal, Namespace, RDF, URIRef, OWL\n",
        "from rdflib.namespace import XSD\n",
        "\n",
        "ont_19 = Namespace(\"http://www.semanticweb.org/addalin/ontologies/2024/3/untitled-ontology-19/\")\n",
        "ont_14 = Namespace(\"http://www.semanticweb.org/addalin/ontologies/2024/3/untitled-ontology-14/\")\n",
        "xsd = Namespace(\"http://www.w3.org/2001/XMLSchema#\")\n",
        "\n",
        "def country_name_by_code(code):\n",
        "  ans = \"\"\n",
        "  with open(\"country_code.csv\", \"r\", newline=\"\") as csvfile:\n",
        "    reader = csv.DictReader(csvfile)\n",
        "    for row in reader:\n",
        "      if code == row[\"IOC\"]:\n",
        "        ans = row[\"Country\"]\n",
        "  return ans\n",
        "\n",
        "\n",
        "# Load ontology\n",
        "g = Graph()\n",
        "g.parse(\"ontology_merged.ttl\", format=\"turtle\")\n",
        "\n",
        "hasCountry_Name = ont_19.hasCountry_Name\n",
        "g.add((hasCountry_Name, RDF.type, OWL.ObjectProperty))\n",
        "\n",
        "Field_Goals_Percentage = ont_14.Field_Goals_Percentage\n",
        "g.add((Field_Goals_Percentage, RDF.type, OWL.ObjectProperty))\n",
        "\n",
        "Free_Throws_Percentage = ont_14.Free_Throws_Percentage\n",
        "g.add((Free_Throws_Percentage, RDF.type, OWL.ObjectProperty))\n",
        "\n",
        "with open(\"Boxscore.csv\", \"r\", newline=\"\") as csvfile:\n",
        "    reader = csv.DictReader(csvfile)\n",
        "    for row in reader:\n",
        "\n",
        "      plusminus_uri = URIRef(ont_14[str(row[\"PM\"])])\n",
        "      g.add((plusminus_uri, hasCountry_Name, Literal(country_name_by_code(row[\"Team\"]), datatype=XSD.string)))\n",
        "\n",
        "      FieldGoals_team_uri = URIRef(ont_14[str(row[\"FG\"].replace(\"/\", \"by\"))])\n",
        "      g.add((FieldGoals_team_uri, Field_Goals_Percentage,Literal(str(row[\"FG%\"]))))\n",
        "\n",
        "      FreeThrow_team_uri = URIRef(ont_14[str(row[\"FT\"].replace(\"/\", \"by\"))])\n",
        "      g.add((FreeThrow_team_uri, Free_Throws_Percentage,Literal(str(row[\"FT%\"]))))\n",
        "\n",
        "g.serialize(destination=\"ontology_merged_populated.ttl\", format=\"turtle\")\n",
        "\n"
      ],
      "metadata": {
        "colab": {
          "base_uri": "https://localhost:8080/"
        },
        "id": "xcL5QbRdjQqI",
        "outputId": "9a0d28d3-e9a5-48ee-f5c4-7b909c460224"
      },
      "execution_count": 5,
      "outputs": [
        {
          "output_type": "execute_result",
          "data": {
            "text/plain": [
              "<Graph identifier=N7ad6c99d02e4484cbf567c42ea87aa2c (<class 'rdflib.graph.Graph'>)>"
            ]
          },
          "metadata": {},
          "execution_count": 5
        }
      ]
    }
  ]
}